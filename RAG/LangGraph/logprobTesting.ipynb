{
 "cells": [
  {
   "cell_type": "code",
   "execution_count": 5,
   "metadata": {},
   "outputs": [
    {
     "name": "stdout",
     "output_type": "stream",
     "text": [
      "Answer: True, Log Probability: -1.147242e-06, Second Log Probability: -14.010491\n",
      "First Linear Probability: 1.0, Second Linear Probability: 0.0\n"
     ]
    }
   ],
   "source": [
    "from openai import OpenAI\n",
    "import numpy as np\n",
    "import os\n",
    "from typing import Dict, Any\n",
    "\n",
    "# Initialize OpenAI client\n",
    "client = OpenAI(api_key=os.environ.get(\"OPENAI_API_KEY\"))\n",
    "\n",
    "def get_true_false_response_with_logprob(prompt: str) -> Dict[str, Any]:\n",
    "    response = client.chat.completions.create(\n",
    "        model=\"gpt-3.5-turbo\",\n",
    "        messages=[\n",
    "            {\"role\": \"system\", \"content\": \"You are a helpful assistant that responds with either 'True' or 'False'.\"},\n",
    "            {\"role\": \"user\", \"content\": prompt}\n",
    "        ],\n",
    "        max_tokens=1,\n",
    "        logprobs=True,\n",
    "        top_logprobs=2\n",
    "    )\n",
    "    \n",
    "    answer = response.choices[0].message.content.strip().lower()\n",
    "    logprob = response.choices[0].logprobs.content[0].top_logprobs[0].logprob\n",
    "    second_logprob = response.choices[0].logprobs.content[0].top_logprobs[1].logprob\n",
    "    first_linear_prob = round(np.exp(logprob), 2)\n",
    "    second_linear_prob = round(np.exp(second_logprob), 2)\n",
    "    \n",
    "    return {\n",
    "        \"answer\": answer == \"true\",\n",
    "        \"logprob\": logprob,\n",
    "        \"second_logprob\": second_logprob,\n",
    "        \"first_linear_prob\": first_linear_prob,\n",
    "        \"second_linear_prob\": second_linear_prob\n",
    "    }\n",
    "\n",
    "# Example usage\n",
    "prompt = \"Is the sky blue?\"\n",
    "result = get_true_false_response_with_logprob(prompt)\n",
    "print(f\"Answer: {result['answer']}, Log Probability: {result['logprob']}, Second Log Probability: {result['second_logprob']}\")\n",
    "print(f\"First Linear Probability: {result['first_linear_prob']}, Second Linear Probability: {result['second_linear_prob']}\")\n"
   ]
  },
  {
   "cell_type": "code",
   "execution_count": null,
   "metadata": {},
   "outputs": [],
   "source": []
  }
 ],
 "metadata": {
  "kernelspec": {
   "display_name": ".venv",
   "language": "python",
   "name": "python3"
  },
  "language_info": {
   "codemirror_mode": {
    "name": "ipython",
    "version": 3
   },
   "file_extension": ".py",
   "mimetype": "text/x-python",
   "name": "python",
   "nbconvert_exporter": "python",
   "pygments_lexer": "ipython3",
   "version": "3.11.4"
  }
 },
 "nbformat": 4,
 "nbformat_minor": 2
}
