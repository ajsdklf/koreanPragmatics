{
 "cells": [
  {
   "cell_type": "code",
   "execution_count": 1,
   "metadata": {},
   "outputs": [],
   "source": [
    "import math\n",
    "\n",
    "def beta_prior(alpha, beta):\n",
    "    \"\"\"Calculates the Beta prior's probability.\"\"\"\n",
    "    return alpha / (alpha + beta)\n",
    "\n",
    "def exponential_likelihood(lambda_param, time_taken):\n",
    "    \"\"\"Calculates the Exponential likelihood based on the response time.\"\"\"\n",
    "    return math.exp(-lambda_param * time_taken)\n",
    "\n",
    "def compute_posterior(alpha, beta, lambda_param, time_taken):\n",
    "    \"\"\"Computes the posterior distribution with a Beta prior and Exponential likelihood.\"\"\"\n",
    "    # Beta prior (user's confidence decreases as time_taken increases)\n",
    "    confidence = beta_prior(alpha, beta)\n",
    "    \n",
    "    # Exponential likelihood (time taken by the user to respond)\n",
    "    likelihood = exponential_likelihood(lambda_param, time_taken)\n",
    "    \n",
    "    # Compute posterior (unnormalized) -> posterior ∝ prior * likelihood\n",
    "    posterior = confidence * likelihood\n",
    "    \n",
    "    return posterior\n",
    "\n",
    "def user_confidence_score(time_taken):\n",
    "    \"\"\"Calculates the user's confidence score based on time taken.\"\"\"\n",
    "    # Initialize prior confidence parameters\n",
    "    alpha = 10  # Initial confidence\n",
    "    beta = 1    # Initial uncertainty\n",
    "\n",
    "    # Exponential distribution's lambda parameter (rate of response decay)\n",
    "    lambda_param = 0.1\n",
    "\n",
    "    # Compute the posterior confidence score\n",
    "    posterior_confidence = compute_posterior(alpha, beta, lambda_param, time_taken)\n",
    "\n",
    "    # Scale the posterior to a 0-100 range\n",
    "    max_confidence = beta_prior(alpha, beta)  # Maximum possible confidence\n",
    "    min_confidence = 0  # Minimum possible confidence\n",
    "    \n",
    "    scaled_confidence = (posterior_confidence - min_confidence) / (max_confidence - min_confidence)\n",
    "    confidence_score = scaled_confidence * 100\n",
    "\n",
    "    return max(0, min(100, confidence_score))  # Ensure the score is between 0 and 100"
   ]
  },
  {
   "cell_type": "code",
   "execution_count": 2,
   "metadata": {},
   "outputs": [
    {
     "name": "stdout",
     "output_type": "stream",
     "text": [
      "User's confidence score: 90.48\n"
     ]
    }
   ],
   "source": [
    "# Example usage\n",
    "time_taken = float(input(\"Enter the time (in seconds) the user took to respond: \"))\n",
    "confidence_score = user_confidence_score(time_taken)\n",
    "print(f\"User's confidence score: {confidence_score:.2f}\")\n"
   ]
  },
  {
   "cell_type": "code",
   "execution_count": null,
   "metadata": {},
   "outputs": [],
   "source": []
  },
  {
   "cell_type": "code",
   "execution_count": 29,
   "metadata": {},
   "outputs": [],
   "source": [
    "import math\n",
    "from scipy.stats import beta\n",
    "\n",
    "def beta_prior(alpha, beta_param):\n",
    "    \"\"\"Calculate the prior mean from the Beta distribution.\"\"\"\n",
    "    return alpha / (alpha + beta_param)\n",
    "\n",
    "def exponential_likelihood(lambda_param, time_taken):\n",
    "    \"\"\"Calculate the likelihood using the Exponential distribution.\"\"\"\n",
    "    return lambda_param * math.exp(-lambda_param * time_taken)\n",
    "\n",
    "def compute_posterior(alpha, beta_param, lambda_param, time_taken):\n",
    "    \"\"\"\n",
    "    Apply Bayes' theorem to compute posterior confidence:\n",
    "    P(Confidence | Time) ∝ P(Time | Confidence) * P(Confidence)\n",
    "    \"\"\"\n",
    "    # Compute the prior from the Beta distribution\n",
    "    prior = beta_prior(alpha, beta_param)\n",
    "\n",
    "    # Compute the likelihood using the Exponential distribution\n",
    "    likelihood = exponential_likelihood(lambda_param, time_taken)\n",
    "\n",
    "    # Combine prior and likelihood to get unnormalized posterior\n",
    "    unnormalized_posterior = prior * likelihood\n",
    "\n",
    "    # Normalize the posterior (simplified normalization)\n",
    "    normalization_constant = prior + math.exp(-lambda_param * time_taken)\n",
    "    posterior = unnormalized_posterior / normalization_constant\n",
    "\n",
    "    return posterior\n",
    "\n",
    "def user_confidence_score(time_taken):\n",
    "    \"\"\"\n",
    "    Calculate the user's confidence score using Beta prior and Exponential likelihood.\n",
    "    Confidence decreases with longer response times.\n",
    "    \"\"\"\n",
    "    # Beta prior parameters (initial confidence belief)\n",
    "    alpha = 10  # High confidence\n",
    "    beta_param = 1  # Low uncertainty\n",
    "\n",
    "    # Exponential rate parameter (how quickly confidence decays with time)\n",
    "    lambda_param = 0.1\n",
    "\n",
    "    # Compute the posterior confidence\n",
    "    posterior_confidence = compute_posterior(alpha, beta_param, lambda_param, time_taken)\n",
    "\n",
    "    # The posterior confidence is already between 0 and 1, so we don't need to scale or clamp it\n",
    "    return posterior_confidence"
   ]
  },
  {
   "cell_type": "code",
   "execution_count": 31,
   "metadata": {},
   "outputs": [
    {
     "name": "stdout",
     "output_type": "stream",
     "text": [
      "User's confidence score: 0.01\n"
     ]
    }
   ],
   "source": [
    "# Example usage\n",
    "time_taken = float(input(\"Enter the time (in seconds) the user took to respond: \"))\n",
    "confidence_score = user_confidence_score(time_taken)\n",
    "print(f\"User's confidence score: {confidence_score:.2f}\")\n"
   ]
  },
  {
   "cell_type": "code",
   "execution_count": null,
   "metadata": {},
   "outputs": [],
   "source": []
  }
 ],
 "metadata": {
  "kernelspec": {
   "display_name": ".venv",
   "language": "python",
   "name": "python3"
  },
  "language_info": {
   "codemirror_mode": {
    "name": "ipython",
    "version": 3
   },
   "file_extension": ".py",
   "mimetype": "text/x-python",
   "name": "python",
   "nbconvert_exporter": "python",
   "pygments_lexer": "ipython3",
   "version": "3.11.4"
  }
 },
 "nbformat": 4,
 "nbformat_minor": 2
}
