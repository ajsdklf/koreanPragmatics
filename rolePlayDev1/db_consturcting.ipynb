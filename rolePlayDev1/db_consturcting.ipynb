{
 "cells": [
  {
   "cell_type": "code",
   "execution_count": null,
   "metadata": {},
   "outputs": [],
   "source": []
  },
  {
   "cell_type": "code",
   "execution_count": 148,
   "metadata": {},
   "outputs": [
    {
     "name": "stderr",
     "output_type": "stream",
     "text": [
      "/Users/gangjimin/Documents/GitHub/koreanPragmatics/.venv/lib/python3.11/site-packages/tqdm/auto.py:21: TqdmWarning: IProgress not found. Please update jupyter and ipywidgets. See https://ipywidgets.readthedocs.io/en/stable/user_install.html\n",
      "  from .autonotebook import tqdm as notebook_tqdm\n"
     ]
    }
   ],
   "source": [
    "from llama_index.core import SimpleDirectoryReader\n",
    "from llama_index.core import VectorStoreIndex\n",
    "from llama_index.core.retrievers import VectorIndexRetriever\n",
    "from llama_index.core import StorageContext\n",
    "from llama_index.core.node_parser import SentenceSplitter, TokenTextSplitter, HierarchicalNodeParser\n",
    "from llama_index.core.schema import TextNode\n",
    "from llama_index.core import Settings\n",
    "from llama_index.embeddings.openai import OpenAIEmbedding\n",
    "from llama_index.embeddings.huggingface import HuggingFaceEmbedding"
   ]
  },
  {
   "cell_type": "code",
   "execution_count": 149,
   "metadata": {},
   "outputs": [],
   "source": [
    "model_name = \"xlm-roberta-base\""
   ]
  },
  {
   "cell_type": "code",
   "execution_count": null,
   "metadata": {},
   "outputs": [],
   "source": []
  },
  {
   "cell_type": "code",
   "execution_count": 150,
   "metadata": {},
   "outputs": [
    {
     "name": "stderr",
     "output_type": "stream",
     "text": [
      "No sentence-transformers model found with name xlm-roberta-base. Creating a new one with mean pooling.\n"
     ]
    }
   ],
   "source": [
    "Settings.embed_model = HuggingFaceEmbedding(model_name=model_name)"
   ]
  },
  {
   "cell_type": "code",
   "execution_count": 151,
   "metadata": {},
   "outputs": [],
   "source": [
    "dataset = [\n",
    "    {\n",
    "        \"correct_sentence\": \"나는 도서관에서 공부해요.\",\n",
    "        \"user_sentence\": \"나는 도서관에 공부해요.\",\n",
    "        \"mistake\": \"Using the wrong particle: The learner used '에' instead of '에서' for indicating the location where the action takes place. '에' is used to indicate a static location or destination, whereas '에서' is used to indicate the location where an action occurs. This mistake can lead to confusion about whether the action is happening at a location or the location is simply being mentioned as a destination.\"\n",
    "    },\n",
    "    {\n",
    "        \"correct_sentence\": \"할머니, 여기 앉으세요.\",\n",
    "        \"user_sentence\": \"할머니, 여기 앉아.\",\n",
    "        \"mistake\": \"Mixing honorific and casual speech: The learner used the casual form '앉아' instead of the honorific form '앉으세요'. In Korean, it's important to use honorific forms when speaking to or about elders or in formal situations to show respect. This mistake can be seen as rude or disrespectful if the context requires politeness.\"\n",
    "    },\n",
    "    {\n",
    "        \"correct_sentence\": \"어제 친구를 만났어요.\",\n",
    "        \"user_sentence\": \"어제 친구를 만난요.\",\n",
    "        \"mistake\": \"Incorrect verb conjugation in past tense: The learner incorrectly conjugated the verb '만나다' in the past tense. The correct form is '만났어요', but the learner used '만난요', which is incorrect. Proper verb conjugation is crucial in Korean as it conveys the correct tense and aspect of the action.\"\n",
    "    },\n",
    "    {\n",
    "        \"correct_sentence\": \"나는 책을 읽어요.\",\n",
    "        \"user_sentence\": \"나는 책이 읽어요.\",\n",
    "        \"mistake\": \"Using '이/가' instead of '을/를' for objects: The learner used the subject marker '이' instead of the object marker '을' for the object '책'. In Korean, '이/가' is used to mark the subject of a sentence, while '을/를' is used to mark the object. This mistake changes the sentence structure and can lead to misunderstanding the focus of the sentence.\"\n",
    "    },\n",
    "    {\n",
    "        \"correct_sentence\": \"나는 어제 영화를 봤어요.\",\n",
    "        \"user_sentence\": \"나는 영화를 어제 봤어요.\",\n",
    "        \"mistake\": \"Incorrect word order: The learner placed '어제' (yesterday) after '영화를' (movie), which disrupts the natural flow of the sentence. In Korean, time expressions typically come at the beginning of the sentence. This mistake can make the sentence sound awkward and less natural.\"\n",
    "    },\n",
    "    {\n",
    "        \"correct_sentence\": \"감사합니다.\",\n",
    "        \"user_sentence\": \"고마워.\",\n",
    "        \"mistake\": \"Using casual form in a formal context: The learner used the casual form '고마워' instead of the formal '감사합니다'. In formal contexts or when speaking to strangers, elders, or superiors, using formal language is crucial in Korean culture. This mistake can be perceived as impolite or inappropriate.\"\n",
    "    },\n",
    "    {\n",
    "        \"correct_sentence\": \"저는 학생이에요.\",\n",
    "        \"user_sentence\": \"저는 학생이요.\",\n",
    "        \"mistake\": \"Incorrect use of '은/는' instead of '이/가' for the subject: The learner used the subject marker '이' incorrectly after '학생'. The correct form should be '학생이에요', using the verb '이에요' which matches the subject. This mistake disrupts the grammatical correctness of the sentence.\"\n",
    "    },\n",
    "    {\n",
    "        \"correct_sentence\": \"사과를 먹었어요.\",\n",
    "        \"user_sentence\": \"사과 먹었어요.\",\n",
    "        \"mistake\": \"Omitting the object particle: The learner omitted the object particle '를' after '사과'. In Korean, particles are essential for indicating the grammatical function of words within a sentence. This omission can make the sentence ambiguous and less clear.\"\n",
    "    },\n",
    "    {\n",
    "        \"correct_sentence\": \"저는 담배를 피우지 않아요.\",\n",
    "        \"user_sentence\": \"저는 담배를 안 피워요.\",\n",
    "        \"mistake\": \"Incorrect use of negation: The learner used '안 피워요' instead of '피우지 않아요'. While both can be correct in casual speech, '피우지 않아요' is more formal and appropriate in many contexts. Understanding the subtle differences in negation forms is important for proper usage.\"\n",
    "    },\n",
    "    {\n",
    "        \"correct_sentence\": \"사과 한 개 주세요.\",\n",
    "        \"user_sentence\": \"사과 한 마리 주세요.\",\n",
    "        \"mistake\": \"Incorrect counting unit for items: The learner used '마리', a counting unit for animals, instead of '개', which is used for general items. Using the correct counting unit is essential in Korean, as it changes depending on the type of object being counted, leading to a more precise and culturally appropriate expression.\"\n",
    "    },\n",
    "    {\n",
    "        \"correct_sentence\": \"같이 영화 볼까요?\",\n",
    "        \"user_sentence\": \"같이 영화 보자.\",\n",
    "        \"mistake\": \"Incorrect verb ending for suggestion: The learner used '보자' instead of '볼까요'. '보자' is a direct suggestion in casual form, while '볼까요' is more polite and commonly used in suggestions or invitations. This mistake affects the politeness level and appropriateness of the suggestion.\"\n",
    "    },\n",
    "    {\n",
    "        \"correct_sentence\": \"아버지가 오셨어요.\",\n",
    "        \"user_sentence\": \"아버지가오셨어요.\",\n",
    "        \"mistake\": \"Incorrect spacing in a sentence: The learner failed to properly space the words in the sentence. Proper spacing is crucial in Korean for readability and to avoid confusion, as incorrect spacing can change the meaning of the words and the overall sentence structure.\"\n",
    "    },\n",
    "    {\n",
    "        \"correct_sentence\": \"친구에게도 말했어요.\",\n",
    "        \"user_sentence\": \"친구에도 말했어요.\",\n",
    "        \"mistake\": \"Using '에도' instead of '에게도' for person: The learner used '에도' instead of the correct '에게도' to indicate speaking to a person. '에게' is used for giving or talking to people, while '에' is used for locations or directions. This mistake can lead to misunderstanding about the object or recipient of the action.\"\n",
    "    },\n",
    "    {\n",
    "        \"correct_sentence\": \"비가 와서 못 갔어요.\",\n",
    "        \"user_sentence\": \"비가 때문에 못 갔어요.\",\n",
    "        \"mistake\": \"Incorrect use of '때문에' instead of '어서/아서' for reason: The learner used '때문에' incorrectly to indicate a reason. The correct form should be '와서', as '어서/아서' is used to show causation or reason in a more natural way. '때문에' is used with nouns, not verbs, leading to awkward phrasing.\"\n",
    "    },\n",
    "    {\n",
    "        \"correct_sentence\": \"어제 도서관에 갔어요.\",\n",
    "        \"user_sentence\": \"어제 도서관에 가요.\",\n",
    "        \"mistake\": \"Using present tense instead of past tense: The learner used the present tense '가요' instead of the past tense '갔어요'. This mistake alters the meaning of the sentence by changing the time frame of the action, leading to confusion about when the event occurred.\"\n",
    "    },\n",
    "    {\n",
    "        \"correct_sentence\": \"사과보다 배가 더 맛있어요.\",\n",
    "        \"user_sentence\": \"사과는 배가 더 맛있어요.\",\n",
    "        \"mistake\": \"Using wrong particle for comparison: The learner used '는' instead of '보다' for making a comparison. '보다' is used to compare two items, indicating 'more than'. Using '는' changes the sentence structure and meaning, making the comparison unclear or incorrect.\"\n",
    "    },\n",
    "    {\n",
    "        \"correct_sentence\": \"할머니께서 식사를 드세요.\",\n",
    "        \"user_sentence\": \"할머니가 식사를 드세요.\",\n",
    "        \"mistake\": \"Incorrect honorific form for verb '드시다': The learner used '가' instead of '께서' for the subject '할머니'. In Korean, honorific forms must be used consistently when referring to elders or in formal situations. This mistake reduces the level of respect shown in the sentence.\"\n",
    "    },\n",
    "    {\n",
    "        \"correct_sentence\": \"한국에 가고 싶어요.\",\n",
    "        \"user_sentence\": \"한국에 가싶어요.\",\n",
    "        \"mistake\": \"Incorrect verb form for '싶다' with another verb: The learner incorrectly combined '가' and '싶어요' into '가싶어요'. The correct form is '가고 싶어요', where '고' is used to connect the verb '가다' with '싶다'. This mistake affects the grammatical structure and clarity of the sentence.\"\n",
    "    },\n",
    "    {\n",
    "        \"correct_sentence\": \"집이 좋아요.\",\n",
    "        \"user_sentence\": \"집은 좋아요.\",\n",
    "        \"mistake\": \"Using '이' instead of '가' with subject: The learner used '은' instead of '이' to mark the subject '집'. In Korean, '이/가' is used for subjects to indicate focus or new information, while '은/는' is used for general statements or known information. This mistake changes the emphasis and meaning of the sentence.\"\n",
    "    },\n",
    "    {\n",
    "        \"correct_sentence\": \"선생님께서 말씀하셨어요.\",\n",
    "        \"user_sentence\": \"선생님이 말씀했어요.\",\n",
    "        \"mistake\": \"Incorrect use of honorifics with '말씀하다': The learner used '이' instead of '께서' and did not properly conjugate '말씀하다' into its honorific form '말씀하셨어요'. Honorifics are important in Korean for showing respect, and incorrect usage can be seen as disrespectful or grammatically incorrect.\"\n",
    "    }\n",
    "]\n",
    "\n",
    "\n",
    "data_example = {\"mistake\": \"Incorrect verb ending with '하다'\", \"correct_sentence\": \"공부해요.\", \"user_sentence\": \"공부한다.\"}"
   ]
  },
  {
   "cell_type": "code",
   "execution_count": 152,
   "metadata": {},
   "outputs": [],
   "source": [
    "node = TextNode(text=data_example['mistake'], metadata={'correct_sentence': data_example['correct_sentence'], 'user_sentence': data_example['user_sentence']})"
   ]
  },
  {
   "cell_type": "code",
   "execution_count": 153,
   "metadata": {},
   "outputs": [
    {
     "name": "stdout",
     "output_type": "stream",
     "text": [
      "Incorrect verb ending with '하다'\n"
     ]
    }
   ],
   "source": [
    "print(node.text)"
   ]
  },
  {
   "cell_type": "code",
   "execution_count": 154,
   "metadata": {},
   "outputs": [
    {
     "name": "stdout",
     "output_type": "stream",
     "text": [
      "{'correct_sentence': '공부해요.', 'user_sentence': '공부한다.'}\n"
     ]
    }
   ],
   "source": [
    "print(node.metadata)"
   ]
  },
  {
   "cell_type": "code",
   "execution_count": 155,
   "metadata": {},
   "outputs": [],
   "source": [
    "nodes = []"
   ]
  },
  {
   "cell_type": "code",
   "execution_count": 156,
   "metadata": {},
   "outputs": [],
   "source": [
    "for data in dataset:\n",
    "  node = TextNode(text=data['mistake'], metadata={'correct_sentence': data['correct_sentence'], 'user_sentence': data['user_sentence']})\n",
    "  nodes.append(node)"
   ]
  },
  {
   "cell_type": "code",
   "execution_count": 157,
   "metadata": {},
   "outputs": [],
   "source": [
    "index = VectorStoreIndex(\n",
    "  nodes=nodes\n",
    "  )"
   ]
  },
  {
   "cell_type": "code",
   "execution_count": 158,
   "metadata": {},
   "outputs": [
    {
     "data": {
      "text/plain": [
       "llama_index.core.indices.vector_store.base.VectorStoreIndex"
      ]
     },
     "execution_count": 158,
     "metadata": {},
     "output_type": "execute_result"
    }
   ],
   "source": [
    "type(index)"
   ]
  },
  {
   "cell_type": "code",
   "execution_count": 159,
   "metadata": {},
   "outputs": [
    {
     "data": {
      "text/plain": [
       "<llama_index.core.indices.vector_store.base.VectorStoreIndex at 0x16873e4d0>"
      ]
     },
     "execution_count": 159,
     "metadata": {},
     "output_type": "execute_result"
    }
   ],
   "source": [
    "index"
   ]
  },
  {
   "cell_type": "code",
   "execution_count": 160,
   "metadata": {},
   "outputs": [],
   "source": [
    "index.storage_context.persist(persist_dir='./example_index')"
   ]
  },
  {
   "cell_type": "code",
   "execution_count": 161,
   "metadata": {},
   "outputs": [],
   "source": [
    "query_engine = index.as_query_engine()"
   ]
  },
  {
   "cell_type": "code",
   "execution_count": 162,
   "metadata": {},
   "outputs": [],
   "source": [
    "response = query_engine.query('Incorrect verb ending with \"하다\"')"
   ]
  },
  {
   "cell_type": "code",
   "execution_count": 163,
   "metadata": {},
   "outputs": [
    {
     "data": {
      "text/plain": [
       "Response(response='Incorrect verb ending with \"하다\"', source_nodes=[NodeWithScore(node=TextNode(id_='6d3a91a5-f821-4d49-bed6-ea0b65f070e9', embedding=None, metadata={'correct_sentence': '저는 학생이에요.', 'user_sentence': '저는 학생이요.'}, excluded_embed_metadata_keys=[], excluded_llm_metadata_keys=[], relationships={}, text=\"Incorrect use of '은/는' instead of '이/가' for the subject: The learner used the subject marker '이' incorrectly after '학생'. The correct form should be '학생이에요', using the verb '이에요' which matches the subject. This mistake disrupts the grammatical correctness of the sentence.\", mimetype='text/plain', start_char_idx=None, end_char_idx=None, text_template='{metadata_str}\\n\\n{content}', metadata_template='{key}: {value}', metadata_seperator='\\n'), score=0.9911652831836805), NodeWithScore(node=TextNode(id_='ef764173-847c-4752-9808-f0cc73ed4595', embedding=None, metadata={'correct_sentence': '같이 영화 볼까요?', 'user_sentence': '같이 영화 보자.'}, excluded_embed_metadata_keys=[], excluded_llm_metadata_keys=[], relationships={}, text=\"Incorrect verb ending for suggestion: The learner used '보자' instead of '볼까요'. '보자' is a direct suggestion in casual form, while '볼까요' is more polite and commonly used in suggestions or invitations. This mistake affects the politeness level and appropriateness of the suggestion.\", mimetype='text/plain', start_char_idx=None, end_char_idx=None, text_template='{metadata_str}\\n\\n{content}', metadata_template='{key}: {value}', metadata_seperator='\\n'), score=0.9908680489103361)], metadata={'6d3a91a5-f821-4d49-bed6-ea0b65f070e9': {'correct_sentence': '저는 학생이에요.', 'user_sentence': '저는 학생이요.'}, 'ef764173-847c-4752-9808-f0cc73ed4595': {'correct_sentence': '같이 영화 볼까요?', 'user_sentence': '같이 영화 보자.'}})"
      ]
     },
     "execution_count": 163,
     "metadata": {},
     "output_type": "execute_result"
    }
   ],
   "source": [
    "response"
   ]
  },
  {
   "cell_type": "code",
   "execution_count": 164,
   "metadata": {},
   "outputs": [
    {
     "data": {
      "text/plain": [
       "'Incorrect verb ending with \"하다\"'"
      ]
     },
     "execution_count": 164,
     "metadata": {},
     "output_type": "execute_result"
    }
   ],
   "source": [
    "response.response"
   ]
  },
  {
   "cell_type": "code",
   "execution_count": 165,
   "metadata": {},
   "outputs": [],
   "source": [
    "retriever = VectorIndexRetriever(\n",
    "  index=index,\n",
    "  similarity_top_k=5\n",
    ")"
   ]
  },
  {
   "cell_type": "code",
   "execution_count": 166,
   "metadata": {},
   "outputs": [],
   "source": [
    "retrieved_nodes = retriever.retrieve('Incorrect verb ending with \"하다\"')"
   ]
  },
  {
   "cell_type": "code",
   "execution_count": 168,
   "metadata": {},
   "outputs": [
    {
     "name": "stdout",
     "output_type": "stream",
     "text": [
      "Incorrect use of '은/는' instead of '이/가' for the subject: The learner used the subject marker '이' incorrectly after '학생'. The correct form should be '학생이에요', using the verb '이에요' which matches the subject. This mistake disrupts the grammatical correctness of the sentence.\n",
      "{'correct_sentence': '저는 학생이에요.', 'user_sentence': '저는 학생이요.'}\n",
      "저는 학생이에요.\n",
      "0.9911652831836805\n",
      "Incorrect verb ending for suggestion: The learner used '보자' instead of '볼까요'. '보자' is a direct suggestion in casual form, while '볼까요' is more polite and commonly used in suggestions or invitations. This mistake affects the politeness level and appropriateness of the suggestion.\n",
      "{'correct_sentence': '같이 영화 볼까요?', 'user_sentence': '같이 영화 보자.'}\n",
      "같이 영화 볼까요?\n",
      "0.9908680489103361\n",
      "Incorrect honorific form for verb '드시다': The learner used '가' instead of '께서' for the subject '할머니'. In Korean, honorific forms must be used consistently when referring to elders or in formal situations. This mistake reduces the level of respect shown in the sentence.\n",
      "{'correct_sentence': '할머니께서 식사를 드세요.', 'user_sentence': '할머니가 식사를 드세요.'}\n",
      "할머니께서 식사를 드세요.\n",
      "0.9906594994186856\n",
      "Using wrong particle for comparison: The learner used '는' instead of '보다' for making a comparison. '보다' is used to compare two items, indicating 'more than'. Using '는' changes the sentence structure and meaning, making the comparison unclear or incorrect.\n",
      "{'correct_sentence': '사과보다 배가 더 맛있어요.', 'user_sentence': '사과는 배가 더 맛있어요.'}\n",
      "사과보다 배가 더 맛있어요.\n",
      "0.9900445154684047\n",
      "Mixing honorific and casual speech: The learner used the casual form '앉아' instead of the honorific form '앉으세요'. In Korean, it's important to use honorific forms when speaking to or about elders or in formal situations to show respect. This mistake can be seen as rude or disrespectful if the context requires politeness.\n",
      "{'correct_sentence': '할머니, 여기 앉으세요.', 'user_sentence': '할머니, 여기 앉아.'}\n",
      "할머니, 여기 앉으세요.\n",
      "0.9898909335083858\n"
     ]
    }
   ],
   "source": [
    "for node in retrieved_nodes:\n",
    "  print(node.text)\n",
    "  print(node.metadata)\n",
    "  print(node.metadata['correct_sentence'])\n",
    "  print(node.score)"
   ]
  },
  {
   "cell_type": "code",
   "execution_count": null,
   "metadata": {},
   "outputs": [],
   "source": []
  }
 ],
 "metadata": {
  "kernelspec": {
   "display_name": ".venv",
   "language": "python",
   "name": "python3"
  },
  "language_info": {
   "codemirror_mode": {
    "name": "ipython",
    "version": 3
   },
   "file_extension": ".py",
   "mimetype": "text/x-python",
   "name": "python",
   "nbconvert_exporter": "python",
   "pygments_lexer": "ipython3",
   "version": "3.11.4"
  }
 },
 "nbformat": 4,
 "nbformat_minor": 2
}
