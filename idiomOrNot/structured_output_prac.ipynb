{
 "cells": [
  {
   "cell_type": "code",
   "execution_count": 4,
   "metadata": {},
   "outputs": [],
   "source": [
    "from openai import OpenAI \n",
    "from pydantic import BaseModel, Field\n",
    "from typing import Optional\n",
    "\n",
    "\n",
    "client = OpenAI()\n",
    "\n",
    "class ResponseFormat(BaseModel):\n",
    "    result: str = Field(..., description=\"The final decision or output\")\n",
    "    reasoning: str = Field(..., description=\"Explanation for the result\")\n",
    "    confidence: float = Field(..., description=\"Confidence score between 0 and 1\")\n",
    "    alternative: Optional[str] = Field(None, description=\"An alternative result, if applicable\")\n",
    "    sources: Optional[list[str]] = Field(None, description=\"List of sources or references, if any\")\n",
    "\n",
    "response = client.beta.chat.completions.parse(\n",
    "    model='gpt-4o-2024-08-06',\n",
    "    messages=[{\"role\": \"user\", \"content\": \"What is the capital of France?\"}],\n",
    "    response_format=ResponseFormat\n",
    ")"
   ]
  },
  {
   "cell_type": "code",
   "execution_count": 5,
   "metadata": {},
   "outputs": [
    {
     "data": {
      "text/plain": [
       "'{\"result\":\"Paris\",\"reasoning\":\"Paris has been the capital of France since 508 AD. It is the most populous city in France and serves as the country\\'s political, economic, and cultural center.\",\"confidence\":0.95,\"alternative\":null,\"sources\":[\"https://en.wikipedia.org/wiki/Paris\",\"https://www.britannica.com/place/Paris\"]}'"
      ]
     },
     "execution_count": 5,
     "metadata": {},
     "output_type": "execute_result"
    }
   ],
   "source": [
    "response.choices[0].message.content"
   ]
  },
  {
   "cell_type": "code",
   "execution_count": 7,
   "metadata": {},
   "outputs": [
    {
     "name": "stdout",
     "output_type": "stream",
     "text": [
      "{'result': 'Paris', 'reasoning': \"Paris has been the capital of France since 508 AD. It is the most populous city in France and serves as the country's political, economic, and cultural center.\", 'confidence': 0.95, 'alternative': None, 'sources': ['https://en.wikipedia.org/wiki/Paris', 'https://www.britannica.com/place/Paris']}\n",
      "result: Paris\n",
      "reasoning: Paris has been the capital of France since 508 AD. It is the most populous city in France and serves as the country's political, economic, and cultural center.\n",
      "confidence: 0.95\n",
      "alternative: None\n",
      "sources: ['https://en.wikipedia.org/wiki/Paris', 'https://www.britannica.com/place/Paris']\n"
     ]
    }
   ],
   "source": [
    "import json \n",
    "\n",
    "response_dict = json.loads(response.choices[0].message.content)\n",
    "print(response_dict)\n",
    "for key, value in response_dict.items():\n",
    "    print(f\"{key}: {value}\")"
   ]
  },
  {
   "cell_type": "code",
   "execution_count": 8,
   "metadata": {},
   "outputs": [
    {
     "name": "stdout",
     "output_type": "stream",
     "text": [
      "{\"steps\":[{\"explanation\":\"We start with the equation given and our goal is to solve for x.\",\"output\":\"8x + 7 = -23\"},{\"explanation\":\"The first step is to isolate the term with x. To do this, subtract 7 from both sides of the equation to eliminate the constant term on the left.\",\"output\":\"8x + 7 - 7 = -23 - 7\"},{\"explanation\":\"After performing the subtraction, we simplify the equation.\",\"output\":\"8x = -30\"},{\"explanation\":\"Now, divide both sides of the equation by 8 to solve for x.\",\"output\":\"8x / 8 = -30 / 8\"},{\"explanation\":\"Simplifying the right side gives x. We can also express this fraction in simplest form by dividing the numerator and the denominator by their greatest common divisor, which is 2.\",\"output\":\"x = -30/8 = -15/4\"},{\"explanation\":\"So, the solution to the equation is x = -15/4.\",\"output\":\"x = -15/4\"}],\"final_answer\":\"x = -15/4\"}\n"
     ]
    }
   ],
   "source": [
    "response_with_manual_schema = client.chat.completions.create(\n",
    "    model=\"gpt-4o-2024-08-06\",\n",
    "    messages=[\n",
    "        {\"role\": \"system\", \"content\": \"You are a helpful math tutor. Guide the user through the solution step by step.\"},\n",
    "        {\"role\": \"user\", \"content\": \"how can I solve 8x + 7 = -23\"}\n",
    "    ],\n",
    "    response_format={\n",
    "        \"type\": \"json_schema\",\n",
    "        \"json_schema\": {\n",
    "            \"name\": \"math_response\",\n",
    "            \"schema\": {\n",
    "                \"type\": \"object\",\n",
    "                \"properties\": {\n",
    "                    \"steps\": {\n",
    "                        \"type\": \"array\",\n",
    "                        \"items\": {\n",
    "                            \"type\": \"object\",\n",
    "                            \"properties\": {\n",
    "                                \"explanation\": {\"type\": \"string\"},\n",
    "                                \"output\": {\"type\": \"string\"}\n",
    "                            },\n",
    "                            \"required\": [\"explanation\", \"output\"],\n",
    "                            \"additionalProperties\": False\n",
    "                        }\n",
    "                    },\n",
    "                    \"final_answer\": {\"type\": \"string\"}\n",
    "                },\n",
    "                \"required\": [\"steps\", \"final_answer\"],\n",
    "                \"additionalProperties\": False\n",
    "            },\n",
    "            \"strict\": True\n",
    "        }\n",
    "    }\n",
    "    )\n",
    "\n",
    "print(response_with_manual_schema.choices[0].message.content)"
   ]
  },
  {
   "cell_type": "code",
   "execution_count": 9,
   "metadata": {},
   "outputs": [
    {
     "name": "stdout",
     "output_type": "stream",
     "text": [
      "ChoiceDelta(content='', function_call=None, refusal=None, role='assistant', tool_calls=None)\n",
      "ChoiceDelta(content='Hello', function_call=None, refusal=None, role=None, tool_calls=None)\n",
      "ChoiceDelta(content='!', function_call=None, refusal=None, role=None, tool_calls=None)\n",
      "ChoiceDelta(content=' How', function_call=None, refusal=None, role=None, tool_calls=None)\n",
      "ChoiceDelta(content=' can', function_call=None, refusal=None, role=None, tool_calls=None)\n",
      "ChoiceDelta(content=' I', function_call=None, refusal=None, role=None, tool_calls=None)\n",
      "ChoiceDelta(content=' assist', function_call=None, refusal=None, role=None, tool_calls=None)\n",
      "ChoiceDelta(content=' you', function_call=None, refusal=None, role=None, tool_calls=None)\n",
      "ChoiceDelta(content=' today', function_call=None, refusal=None, role=None, tool_calls=None)\n",
      "ChoiceDelta(content='?', function_call=None, refusal=None, role=None, tool_calls=None)\n",
      "ChoiceDelta(content=None, function_call=None, refusal=None, role=None, tool_calls=None)\n"
     ]
    }
   ],
   "source": [
    "from openai import OpenAI\n",
    "client = OpenAI()\n",
    "\n",
    "completion = client.chat.completions.create(\n",
    "    model=\"gpt-4o-2024-08-06\",\n",
    "    messages=[\n",
    "        {\"role\": \"system\", \"content\": \"You are a helpful assistant.\"},\n",
    "        {\"role\": \"user\", \"content\": \"Hello!\"}\n",
    "    ],\n",
    "    stream=True,\n",
    "    stream_options\n",
    ")\n",
    "\n",
    "for chunk in completion:\n",
    "    print(chunk.choices[0].delta)\n"
   ]
  },
  {
   "cell_type": "code",
   "execution_count": null,
   "metadata": {},
   "outputs": [],
   "source": []
  }
 ],
 "metadata": {
  "kernelspec": {
   "display_name": ".venv",
   "language": "python",
   "name": "python3"
  },
  "language_info": {
   "codemirror_mode": {
    "name": "ipython",
    "version": 3
   },
   "file_extension": ".py",
   "mimetype": "text/x-python",
   "name": "python",
   "nbconvert_exporter": "python",
   "pygments_lexer": "ipython3",
   "version": "3.11.4"
  }
 },
 "nbformat": 4,
 "nbformat_minor": 2
}
