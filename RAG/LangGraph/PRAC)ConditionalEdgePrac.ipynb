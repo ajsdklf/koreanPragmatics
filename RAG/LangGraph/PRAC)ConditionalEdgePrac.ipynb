{
 "cells": [
  {
   "cell_type": "code",
   "execution_count": 1,
   "metadata": {},
   "outputs": [],
   "source": [
    "from typing import List, Dict, TypedDict, Optional\n",
    "\n",
    "class GraphState(TypedDict):\n",
    "    question: Optional[str] = None \n",
    "    category: Optional[str] = None\n",
    "    response: Optional[str] = None"
   ]
  },
  {
   "cell_type": "code",
   "execution_count": 2,
   "metadata": {},
   "outputs": [],
   "source": [
    "from langgraph.graph import StateGraph, START, END\n",
    "\n",
    "workflow = StateGraph(GraphState)"
   ]
  },
  {
   "cell_type": "code",
   "execution_count": 3,
   "metadata": {},
   "outputs": [],
   "source": [
    "from openai import OpenAI\n",
    "\n",
    "client = OpenAI()\n",
    "\n",
    "def classify(input: str) -> str:\n",
    "    category = client.chat.completions.create(\n",
    "        model='gpt-4o',\n",
    "        messages=[\n",
    "            {'role': 'system', 'content': 'You are a helpful assistant that can classify a given question into one of the following categories: \"Math\", \"Science\", \"History\". Provide only the category name as your final answer, nothing else.'},\n",
    "            {'role': 'user', 'content': f'Please classify the following question: {input} Your response **must be** one of the categories mentioned above.'}\n",
    "        ],\n",
    "        logprobs=True,\n",
    "        top_logprobs=1\n",
    "    ).choices[0].message.content\n",
    "    \n",
    "    return category\n",
    "\n",
    "\n",
    "def classify_question(state: GraphState) -> GraphState:\n",
    "    question = state.get('question')\n",
    "    category = classify(question)\n",
    "    return {'category': category}\n",
    "\n",
    "\n",
    "def get_response(question: str, category: str) -> str:\n",
    "    response = client.chat.completions.create(\n",
    "        model='gpt-4o',\n",
    "        messages=[\n",
    "            {'role': 'system', 'content': f'You are a helpful assistant that can answer a given question in {category}.'},\n",
    "            {'role': 'user', 'content': f'Please answer the following question: {question}'}\n",
    "        ]\n",
    "    ).choices[0].message.content\n",
    "    \n",
    "    return response\n",
    "\n",
    "def next_node(state: GraphState) -> GraphState:\n",
    "    category = state.get('category')\n",
    "    if category == 'Math':\n",
    "        return 'math_answer'\n",
    "    elif category == 'Science':\n",
    "        return 'science_answer'\n",
    "    elif category == 'History':\n",
    "        return 'history_answer'\n",
    "    else:\n",
    "        return 'error'\n",
    "\n",
    "def math_answer(state: GraphState) -> GraphState:\n",
    "    question = state.get('question')\n",
    "    category = state.get('category')\n",
    "    response = get_response(question, category)\n",
    "    return {'response': response}\n",
    "\n",
    "def science_answer(state: GraphState) -> GraphState:\n",
    "    question = state.get('question')\n",
    "    category = state.get('category')\n",
    "    response = get_response(question, category)\n",
    "    return {'response': response}\n",
    "\n",
    "def history_answer(state: GraphState) -> GraphState:\n",
    "    question = state.get('question')\n",
    "    category = state.get('category')\n",
    "    response = get_response(question, category)\n",
    "    return {'response': response}"
   ]
  },
  {
   "cell_type": "code",
   "execution_count": 4,
   "metadata": {},
   "outputs": [
    {
     "data": {
      "text/plain": [
       "<langgraph.graph.state.StateGraph at 0x103e5ab90>"
      ]
     },
     "execution_count": 4,
     "metadata": {},
     "output_type": "execute_result"
    }
   ],
   "source": [
    "workflow.add_node(\"classify_question\", classify_question)\n",
    "workflow.add_node(\"math_answer\", math_answer)\n",
    "workflow.add_node(\"science_answer\", science_answer)\n",
    "workflow.add_node(\"history_answer\", history_answer)\n",
    "\n",
    "workflow.add_edge(START, \"classify_question\")\n",
    "workflow.add_conditional_edges(\n",
    "    'classify_question',\n",
    "    next_node,\n",
    "    {\n",
    "        \"math_answer\": \"math_answer\",\n",
    "        \"science_answer\": \"science_answer\",\n",
    "        \"history_answer\": \"history_answer\",\n",
    "    }\n",
    ")\n",
    "workflow.add_edge('math_answer', END)\n",
    "workflow.add_edge('science_answer', END)\n",
    "workflow.add_edge('history_answer', END)"
   ]
  },
  {
   "cell_type": "code",
   "execution_count": 6,
   "metadata": {},
   "outputs": [],
   "source": [
    "app = workflow.compile()\n",
    "inputs = {'question': 'Compute the square root of 169'}"
   ]
  },
  {
   "cell_type": "code",
   "execution_count": 7,
   "metadata": {},
   "outputs": [],
   "source": [
    "result = app.invoke(inputs)"
   ]
  },
  {
   "cell_type": "code",
   "execution_count": 8,
   "metadata": {},
   "outputs": [
    {
     "name": "stdout",
     "output_type": "stream",
     "text": [
      "{'question': 'Compute the square root of 169', 'category': 'Math', 'response': 'To find the square root of 169, you need to determine which number, when multiplied by itself, equals 169. \\n\\n\\\\[ \\\\sqrt{169} = x \\\\]\\n\\nThis can be mathematically represented as:\\n\\n\\\\[ x^2 = 169 \\\\]\\n\\nBy inspecting possible values, we find that:\\n\\n\\\\[ 13^2 = 169 \\\\]\\n\\nTherefore, the square root of 169 is:\\n\\n\\\\[ \\\\sqrt{169} = 13 \\\\]\\n\\nHence, the answer is:\\n\\n\\\\[ \\\\boxed{13} \\\\]'}\n"
     ]
    }
   ],
   "source": [
    "print(result)"
   ]
  },
  {
   "cell_type": "code",
   "execution_count": 9,
   "metadata": {},
   "outputs": [
    {
     "name": "stdout",
     "output_type": "stream",
     "text": [
      "question: Compute the square root of 169\n",
      "category: Math\n",
      "response: To find the square root of 169, you need to determine which number, when multiplied by itself, equals 169. \n",
      "\n",
      "\\[ \\sqrt{169} = x \\]\n",
      "\n",
      "This can be mathematically represented as:\n",
      "\n",
      "\\[ x^2 = 169 \\]\n",
      "\n",
      "By inspecting possible values, we find that:\n",
      "\n",
      "\\[ 13^2 = 169 \\]\n",
      "\n",
      "Therefore, the square root of 169 is:\n",
      "\n",
      "\\[ \\sqrt{169} = 13 \\]\n",
      "\n",
      "Hence, the answer is:\n",
      "\n",
      "\\[ \\boxed{13} \\]\n"
     ]
    }
   ],
   "source": [
    "for key, value in result.items():\n",
    "    print(f\"{key}: {value}\")"
   ]
  },
  {
   "cell_type": "code",
   "execution_count": 8,
   "metadata": {},
   "outputs": [
    {
     "name": "stdout",
     "output_type": "stream",
     "text": [
      "<class 'langgraph.graph.state.CompiledStateGraph'>\n"
     ]
    }
   ],
   "source": [
    "print(type(app))"
   ]
  },
  {
   "cell_type": "code",
   "execution_count": 7,
   "metadata": {},
   "outputs": [
    {
     "data": {
      "image/jpeg": "[encoded data removed]",
      "text/plain": [
       "<IPython.core.display.Image object>"
      ]
     },
     "metadata": {},
     "output_type": "display_data"
    }
   ],
   "source": [
    "from IPython.display import Image, display\n",
    "display(Image(app.get_graph().draw_mermaid_png()))"
   ]
  },
  {
   "cell_type": "code",
   "execution_count": null,
   "metadata": {},
   "outputs": [],
   "source": []
  },
  {
   "cell_type": "code",
   "execution_count": null,
   "metadata": {},
   "outputs": [],
   "source": []
  }
 ],
 "metadata": {
  "kernelspec": {
   "display_name": ".venv",
   "language": "python",
   "name": "python3"
  },
  "language_info": {
   "codemirror_mode": {
    "name": "ipython",
    "version": 3
   },
   "file_extension": ".py",
   "mimetype": "text/x-python",
   "name": "python",
   "nbconvert_exporter": "python",
   "pygments_lexer": "ipython3",
   "version": "3.11.4"
  }
 },
 "nbformat": 4,
 "nbformat_minor": 2
}
