{
 "cells": [
  {
   "cell_type": "code",
   "execution_count": 7,
   "metadata": {},
   "outputs": [
    {
     "name": "stdout",
     "output_type": "stream",
     "text": [
      "{\n",
      "  \"report\": \"As an AI language model,\n",
      " I don't have personal experiences or feelings. My purpose is to assist users by providing information,\n",
      " answering questions,\n",
      " and aiding with various tasks. I do so by drawing upon a vast dataset I've been trained on,\n",
      " which encompasses diverse topics and knowledge areas up to October 2023. Though I lack emotions or personal consciousness,\n",
      " my 'experience' could be described as constantly processing and adapting to user inputs to deliver relevant and accurate responses. Feedback also helps refine and improve my capabilities over time,\n",
      " enhancing the interaction quality for everyone who uses this service.\",\n",
      "  \"report_type\": \"AI Model Experience Overview\",\n",
      "  \"report_length\": \"100 words\"\n",
      "}"
     ]
    }
   ],
   "source": [
    "from openai import OpenAI\n",
    "\n",
    "client = OpenAI()\n",
    "\n",
    "\n",
    "response = client.chat.completions.create(\n",
    "    model=\"gpt-4o\",\n",
    "    messages=[\n",
    "        {\"role\": \"system\", \"content\": \"You are a helpful assistant. Answer in the JSON format {{report: <report>}, {report_type: <report_type>}, {report_length: <report_length>}}\"},\n",
    "        {\"role\": \"user\", \"content\": \"Hello, how are you? Answer with 100 word report about your experience.\"}\n",
    "    ],\n",
    "    stream=True,\n",
    "    response_format={ \"type\": \"json_object\" }\n",
    ")\n",
    "\n",
    "for chunk in response:\n",
    "    if chunk.choices[0].delta.content is not None:\n",
    "        print(chunk.choices[0].delta.content, end=\"\\n\" if chunk.choices[0].delta.content.endswith(\",\") else \"\")\n",
    "\n"
   ]
  },
  {
   "cell_type": "code",
   "execution_count": 21,
   "metadata": {},
   "outputs": [
    {
     "name": "stdout",
     "output_type": "stream",
     "text": [
      "Report\n",
      ": Experience Report  \n",
      "Type\n",
      ": Experience Report  \n",
      "Length\n",
      ": 100 words  \n",
      "\n",
      "As an AI, my experience is not personal or emotional, but functional. My purpose is to assist users by providing information, answering questions, and completing tasks to the best of my ability. I interact with a diverse range of users and topics, constantly learning and improving from each interaction to better serve future user needs. My experience involves processing vast amounts of data to deliver concise and relevant responses. Each interaction contributes to refining my algorithms and expanding my knowledge base, enabling me to become more efficient and effective in facilitating user engagement and satisfaction.\n",
      "\n",
      "Final results:\n",
      "Report: : Experience Report  \n",
      "\n",
      "Report Type: : Experience Report  \n",
      "\n",
      "Report Length: : 100 words  \n",
      "\n",
      "As an AI, my experience is not personal or emotional, but functional. My purpose is to assist users by providing information, answering questions, and completing tasks to the best of my ability. I interact with a diverse range of users and topics, constantly learning and improving from each interaction to better serve future user needs. My experience involves processing vast amounts of data to deliver concise and relevant responses. Each interaction contributes to refining my algorithms and expanding my knowledge base, enabling me to become more efficient and effective in facilitating user engagement and satisfaction.\n"
     ]
    }
   ],
   "source": [
    "from openai import OpenAI\n",
    "\n",
    "client = OpenAI()\n",
    "\n",
    "response = client.chat.completions.create(\n",
    "    model=\"gpt-4o\",\n",
    "    messages=[\n",
    "        {\"role\": \"system\", \"content\": \"You are a helpful assistant. Your answer must include the following elements: report [report requested by user], type [type of report], length [length of report] and when generating each element, start with the name of the element and then generate the content of the element.\"},\n",
    "        {\"role\": \"user\", \"content\": \"Hello, how are you? Answer with 100 word report about your experience.\"}\n",
    "    ],\n",
    "    stream=True,\n",
    ")\n",
    "\n",
    "report = \"\"\n",
    "report_type = \"\"\n",
    "report_length = \"\"\n",
    "current_element = \"\"\n",
    "\n",
    "for chunk in response:\n",
    "    if chunk.choices[0].delta.content is not None:\n",
    "        content = chunk.choices[0].delta.content\n",
    "        if content.lower() in [\"report\", \"type\", \"length\"]:\n",
    "            current_element = content.lower()\n",
    "            print(content)\n",
    "        else:\n",
    "            if current_element == \"report\":\n",
    "                report += content\n",
    "            elif current_element == \"type\":\n",
    "                report_type += content\n",
    "            elif current_element == \"length\":\n",
    "                report_length += content\n",
    "            print(content, end=\"\")\n",
    "\n",
    "print(\"\\n\\nFinal results:\")\n",
    "print(f\"Report: {report}\")\n",
    "print(f\"Report Type: {report_type}\")\n",
    "print(f\"Report Length: {report_length}\")"
   ]
  },
  {
   "cell_type": "code",
   "execution_count": null,
   "metadata": {},
   "outputs": [],
   "source": []
  }
 ],
 "metadata": {
  "kernelspec": {
   "display_name": ".venv",
   "language": "python",
   "name": "python3"
  },
  "language_info": {
   "codemirror_mode": {
    "name": "ipython",
    "version": 3
   },
   "file_extension": ".py",
   "mimetype": "text/x-python",
   "name": "python",
   "nbconvert_exporter": "python",
   "pygments_lexer": "ipython3",
   "version": "3.11.4"
  }
 },
 "nbformat": 4,
 "nbformat_minor": 2
}
