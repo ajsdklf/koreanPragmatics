{
 "cells": [
  {
   "cell_type": "code",
   "execution_count": 1,
   "metadata": {},
   "outputs": [],
   "source": [
    "from typing import TypedDict, Dict\n",
    "\n",
    "\n",
    "# GraphState 요소는 상태를 전달하는 용도로 사용됩니다.\n",
    "class ToDoState(TypedDict):\n",
    "    goal: str  # 목표\n",
    "    todo: list[str]  # 할 일 목록\n",
    "    current_job: str  # 현재 작업\n",
    "    total_time: int  # 총 소요시간(시간)\n",
    "    time_spent: Dict[str, float]  # 각 활동별 소요 시간(시간)\n",
    "    status: str  # 상태(진행중, 다음 작업, 종료)"
   ]
  },
  {
   "cell_type": "code",
   "execution_count": 2,
   "metadata": {},
   "outputs": [],
   "source": [
    "from langgraph.graph import StateGraph, START, END\n",
    "\n",
    "graph_builder = StateGraph(ToDoState)"
   ]
  },
  {
   "cell_type": "code",
   "execution_count": 3,
   "metadata": {},
   "outputs": [],
   "source": [
    "from langchain_openai import ChatOpenAI\n",
    "from openai import OpenAI\n",
    "import json\n",
    "\n",
    "llm = ChatOpenAI(model=\"gpt-4o\")\n",
    "client = OpenAI()\n",
    "\n",
    "def create_goal(state: ToDoState):\n",
    "    user_goal = state[\"goal\"]\n",
    "    if not user_goal:\n",
    "        user_goal = input(\"목표를 입력해주세요: \")\n",
    "    return {\"goal\": user_goal}\n",
    "\n",
    "def create_todo_list(state: ToDoState):\n",
    "    user_goal = state[\"goal\"]\n",
    "    if not user_goal:\n",
    "        return {\"goal\": \"목표를 입력해주세요.\"}\n",
    "    todo_list = client.chat.completions.create(\n",
    "        model=\"gpt-4o\",\n",
    "        messages=[\n",
    "            {\"role\": \"system\", \"content\": \"You are a helpful assistant that creates a todo list based on a user's goal.\"},\n",
    "            {\"role\": \"user\", \"content\": f\"Create a todo list for the goal: {user_goal}. The todo list should contain a maximum of 5 tasks. The todo list should be in list format.\"}\n",
    "        ]\n",
    "    )\n",
    "    \n",
    "    todo_list_content = todo_list.choices[0].message.content\n",
    "    todo_items = [item.strip() for item in todo_list_content.split('\\n') if item.strip()]\n",
    "    \n",
    "    return {\"todo\": todo_items}"
   ]
  },
  {
   "cell_type": "code",
   "execution_count": 4,
   "metadata": {},
   "outputs": [],
   "source": [
    "graph_builder.add_node('create_goal', create_goal)\n",
    "graph_builder.add_node('create_todo_list', create_todo_list)\n",
    "\n",
    "graph_builder.add_edge(START, 'create_goal')\n",
    "graph_builder.add_edge('create_goal', 'create_todo_list')\n",
    "graph_builder.add_edge('create_todo_list', END)\n",
    "\n",
    "graph = graph_builder.compile()"
   ]
  },
  {
   "cell_type": "code",
   "execution_count": 5,
   "metadata": {},
   "outputs": [
    {
     "data": {
      "text/plain": [
       "{'goal': '공부하기',\n",
       " 'todo': ['1. 목표 설정 및 계획 수립:',\n",
       "  '- 구체적인 공부 목표를 설정하고 달성 일정을 세우기',\n",
       "  '2. 자료 정리 및 필요한 도구 준비:',\n",
       "  '- 교재, 노트, 필기구 등 필요한 도구들 준비하기',\n",
       "  '3. 타임테이블 작성:',\n",
       "  '- 매일 공부할 시간을 정하고, 하루 공부 일정을 타임테이블로 작성하기',\n",
       "  '4. 집중 환경 조성:',\n",
       "  '- 조용하고 방해받지 않는 공부 장소 정하기',\n",
       "  '5. 복습 및 점검:',\n",
       "  '- 매일 공부한 내용을 복습하고, 주기적으로 목표 달성 여부를 점검하기']}"
      ]
     },
     "execution_count": 5,
     "metadata": {},
     "output_type": "execute_result"
    }
   ],
   "source": [
    "graph.invoke({\"goal\": \"공부하기\"})"
   ]
  },
  {
   "cell_type": "code",
   "execution_count": 6,
   "metadata": {},
   "outputs": [
    {
     "data": {
      "image/jpeg": "[encoded data removed]",
      "text/plain": [
       "<IPython.core.display.Image object>"
      ]
     },
     "metadata": {},
     "output_type": "display_data"
    }
   ],
   "source": [
    "from IPython.display import Image, display\n",
    "\n",
    "try:\n",
    "    display(Image(graph.get_graph().draw_mermaid_png()))\n",
    "except Exception:\n",
    "    # This requires some extra dependencies and is optional\n",
    "    pass"
   ]
  },
  {
   "cell_type": "code",
   "execution_count": 7,
   "metadata": {},
   "outputs": [
    {
     "name": "stderr",
     "output_type": "stream",
     "text": [
      "Adding a node to a graph that has already been compiled. This will not be reflected in the compiled graph.\n",
      "Adding an edge to a graph that has already been compiled. This will not be reflected in the compiled graph.\n"
     ]
    },
    {
     "data": {
      "text/plain": [
       "{'goal': '공부하기',\n",
       " 'todo': ['1. 공부할 과목 및 주제 정하기',\n",
       "  '2. 필요한 자료 및 교재 준비하기',\n",
       "  '3. 하루 공부 시간 및 스케줄 계획하기',\n",
       "  '4. 중간에 휴식 시간 설정하기',\n",
       "  '5. 주요 개념 및 내용 복습하기'],\n",
       " 'time_spent': {'공부할 과목 및 주제 정하기': 63,\n",
       "  '필요한 자료 및 교재 준비하기': 118,\n",
       "  '하루 공부 시간 및 스케줄 계획하기': 65,\n",
       "  '중간에 휴식 시간 설정하기': 42,\n",
       "  '주요 개념 및 내용 복습하기': 112}}"
      ]
     },
     "execution_count": 7,
     "metadata": {},
     "output_type": "execute_result"
    }
   ],
   "source": [
    "import random\n",
    "\n",
    "def calculate_time_spent(state: ToDoState):\n",
    "    todo_list = state.get(\"todo\")\n",
    "    time_spent = {}\n",
    "    \n",
    "    for task in todo_list:\n",
    "        # Extract the task name (remove numbering and asterisks)\n",
    "        task_name = task.split('. ', 1)[-1].strip('*').strip()\n",
    "        \n",
    "        # Simulate time spent (in minutes) - replace this with actual time tracking logic\n",
    "        time_spent[task_name] = random.randint(30, 120)\n",
    "    \n",
    "    return {\"time_spent\": time_spent}\n",
    "\n",
    "graph_builder.add_node('calculate_time_spent', calculate_time_spent)\n",
    "graph_builder.add_edge('create_todo_list', 'calculate_time_spent')\n",
    "\n",
    "graph = graph_builder.compile()\n",
    "graph.invoke({\"goal\": \"공부하기\"})"
   ]
  },
  {
   "cell_type": "code",
   "execution_count": 9,
   "metadata": {},
   "outputs": [
    {
     "data": {
      "image/jpeg": "[encoded data removed]",
      "text/plain": [
       "<IPython.core.display.Image object>"
      ]
     },
     "metadata": {},
     "output_type": "display_data"
    }
   ],
   "source": [
    "from IPython.display import Image, display\n",
    "\n",
    "try:\n",
    "    display(Image(graph.get_graph().draw_mermaid_png()))\n",
    "except Exception:\n",
    "    # This requires some extra dependencies and is optional\n",
    "    pass"
   ]
  },
  {
   "cell_type": "code",
   "execution_count": null,
   "metadata": {},
   "outputs": [],
   "source": []
  }
 ],
 "metadata": {
  "kernelspec": {
   "display_name": ".venv",
   "language": "python",
   "name": "python3"
  },
  "language_info": {
   "codemirror_mode": {
    "name": "ipython",
    "version": 3
   },
   "file_extension": ".py",
   "mimetype": "text/x-python",
   "name": "python",
   "nbconvert_exporter": "python",
   "pygments_lexer": "ipython3",
   "version": "3.11.4"
  }
 },
 "nbformat": 4,
 "nbformat_minor": 2
}
