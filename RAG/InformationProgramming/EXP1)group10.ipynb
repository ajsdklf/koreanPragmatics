{
 "cells": [
  {
   "cell_type": "code",
   "execution_count": 1,
   "metadata": {},
   "outputs": [],
   "source": [
    "from langgraph.graph import StateGraph, START, END\n",
    "from langgraph.graph.message import add_messages\n",
    "from openai import OpenAI\n",
    "from typing_extensions import TypedDict\n",
    "from typing import Annotated\n",
    "\n",
    "client = OpenAI()\n",
    "\n",
    "class Answer(TypedDict):\n",
    "    initialized: str\n",
    "    question: str\n",
    "    subdomain_prediction: str\n",
    "    subdomain_confidence: float\n",
    "    subdomain_evaluation: str\n",
    "    subdomain_feedback: str\n",
    "    information_needed: str\n",
    "    information_evaluation: str\n",
    "    answer: str\n",
    "\n",
    "graph_builder = StateGraph(Answer)"
   ]
  },
  {
   "cell_type": "code",
   "execution_count": 2,
   "metadata": {},
   "outputs": [],
   "source": [
    "question = [\n",
    "    'Two quantum states with energies E1 and E2 have a lifetime of 10^-9 sec and 10^-8 sec, respectively. We want to clearly distinguish these two energy levels. Which one of the following options could be their energy difference so that they can be clearly resolved?',\n",
    "    'trans-cinnamaldehyde was treated with methylmagnesium bromide, forming product 1. 1 was treated with pyridinium chlorochromate, forming product 2. 3 was treated with (dimethyl(oxo)-l6-sulfaneylidene)methane in DMSO at elevated temperature, forming product 3. how many carbon atoms are there in product 3?',\n",
    "    'A spin-half particle is in a linear superposition 0.5|\\uparrow\\rangle+sqrt(3)/2|\\downarrow\\rangle of its spin-up and spin-down states. If |\\uparrow\\rangle and |\\downarrow\\rangle are the eigenstates of \\sigma(z) , then what is the expectation value up to one decimal place, of the operator 10\\sigma(z)+5\\sigma(x) ? Here, symbols have their usual meanings'\n",
    "]\n",
    "\n",
    "def input_question(state: Answer) -> Answer:\n",
    "    return {'question': question}\n"
   ]
  },
  {
   "cell_type": "code",
   "execution_count": 3,
   "metadata": {},
   "outputs": [],
   "source": [
    "import numpy as np\n",
    "\n",
    "def get_subdomain(state: Answer) -> Answer:\n",
    "    subdomain_prediction = client.chat.completions.create(\n",
    "        model='gpt-4o',\n",
    "        messages=[\n",
    "            {'role': 'system', 'content': \"\"\"You are a highly knowledgeable academic advisor with expertise across multiple scientific disciplines. Your task is to accurately identify the specific subdomain of a given question. Approach this task methodically:\n",
    "\n",
    "1. Carefully read and analyze the question.\n",
    "2. Identify key terms, concepts, or methodologies mentioned.\n",
    "3. Consider the broader field and then narrow down to the most specific subdomain.\n",
    "4. If you're unsure, think through your reasoning step-by-step.\n",
    "5. Provide only the subdomain name as your final answer, nothing else.\n",
    "\n",
    "Remember, precision is crucial. Your subdomain classification will guide further research and analysis.\"\"\"},\n",
    "            {'role': 'user', 'content': f'''Please determine the specific subdomain for the following question. Think through your reasoning step-by-step, but only output the final subdomain name.\n",
    "\n",
    "Question: {state[\"question\"]}\n",
    "\n",
    "Steps:\n",
    "1. Identify key terms and concepts\n",
    "2. Consider the broader field\n",
    "3. Narrow down to the most specific subdomain\n",
    "4. Double-check your reasoning\n",
    "\n",
    "Final answer (subdomain name only):'''}\n",
    "        ],\n",
    "        logprobs=True,\n",
    "        top_logprobs=5\n",
    "    )\n",
    "    \n",
    "    logprobs = subdomain_prediction.choices[0].logprobs.content[0]\n",
    "    list_of_linear_logprobs = []\n",
    "    for logprob in logprobs:\n",
    "        list_of_linear_logprobs.append(np.exp(logprob.logprob))\n",
    "    \n",
    "    normalized_probs = np.array(list_of_linear_logprobs) / np.sum(list_of_linear_logprobs)\n",
    "    \n",
    "    entropy = -np.sum(normalized_probs * np.log2(normalized_probs + 1e-10))  # Add small epsilon to avoid log(0)\n",
    "    max_entropy = np.log2(len(normalized_probs))  # Maximum possible entropy\n",
    "    subdomain_confidence = 1 - (entropy / max_entropy)\n",
    "    \n",
    "    return {'subdomain_prediction': subdomain_prediction.choices[0].message.content, 'subdomain_confidence': subdomain_confidence}\n",
    "\n",
    "def evaluate_subdomain(state: Answer) -> Answer:\n",
    "    if state['subdomain_confidence'] > 0.8:\n",
    "        final_evaluation = True\n",
    "    else:\n",
    "        evaluation = client.chat.completions.create(\n",
    "            model='gpt-4o',\n",
    "            messages=[\n",
    "                {'role': 'system', 'content': 'You are a helpful assistant that can evaluate the subdomain prediction made by the expert. Provide feedback to help improve future predictions.'},\n",
    "                {'role': 'user', 'content': f'Evaluate the subdomain prediction made by the expert: {state[\"subdomain_prediction\"]} for the question: {state[\"question\"]}. If the subdomain is appropriate, return \"True\" followed by a brief explanation. If not, return \"False\" followed by the correct subdomain and a brief explanation of why it\\'s more appropriate.'}\n",
    "            ]\n",
    "        )\n",
    "        \n",
    "        response = evaluation.choices[0].message.content\n",
    "        if response.startswith('True'):\n",
    "            final_evaluation = True\n",
    "            feedback = response[5:].strip()  # Remove 'True ' and any leading/trailing whitespace\n",
    "        else:\n",
    "            final_evaluation = False\n",
    "            feedback = response[6:].strip()  # Remove 'False ' and any leading/trailing whitespace\n",
    "        \n",
    "        state['subdomain_feedback'] = feedback\n",
    "    return {'subdomain_evaluation': final_evaluation, 'subdomain_feedback': feedback}\n",
    "\n",
    "def get_information(state: Answer) -> Answer:\n",
    "    information_needed = client.chat.completions.create(\n",
    "        model='gpt-4o',\n",
    "        messages=[\n",
    "            {'role': 'system', 'content': 'You are a helpful assistant that can analyze the information needed to answer a given question.'},\n",
    "            {'role': 'user', 'content': f'What information is needed to answer the question: {state[\"question\"]}? Provide a detailed explanation of the information needed and why it is needed.'}\n",
    "        ]\n",
    "    )\n",
    "    return {'information': information_needed.choices[0].message.content}\n",
    "\n",
    "def evaluate_information(state: Answer) -> Answer:\n",
    "    evaluation = client.chat.completions.create(\n",
    "        model='gpt-4o',\n",
    "        messages=[\n",
    "            {'role': 'system', 'content': 'You are a helpful assistant that can evaluate the information needed to answer a given question.'},\n",
    "            {'role': 'user', 'content': f'Evaluate the information needed to answer the question: {state[\"question\"]} with the information: {state[\"information\"]}. If the information is appropriate, return True, otherwise return False. Your response should be either True or False.'}\n",
    "        ],\n",
    "        logprobs=True,\n",
    "        top_logprobs=2\n",
    "    )\n",
    "    \n",
    "    if evaluation.choices[0].logprobs.content[0].top_logprobs[0].logprob > 0.8:\n",
    "        final_evaluation = True\n",
    "    else:\n",
    "        final_evaluation = False\n",
    "    return {'information_evaluation': final_evaluation}\n",
    "\n",
    "def get_answer(state: Answer) -> Answer:\n",
    "    answer_needed = client.chat.completions.create(\n",
    "        model='gpt-4o',\n",
    "        messages=[\n",
    "            {'role': 'system', 'content': 'You are a helpful assistant that can answer a given question. Use step-by-step reasoning to arrive at your answer, but provide only the final answer in a single sentence without any explanation.'},\n",
    "            {'role': 'user', 'content': f'Question: {state[\"question\"]}\\nInformation: {state[\"information\"]}\\n\\nThink through the following steps:\\n1. Analyze the given information\\n2. Identify key concepts and formulas\\n3. Apply the information to the question\\n4. Calculate or reason step-by-step\\n5. Formulate a concise answer\\n\\nProvide only the final answer in a single sentence, without any explanation:'}\n",
    "        ]\n",
    "    )\n",
    "    \n",
    "    return {'answer': answer_needed.choices[0].message.content}"
   ]
  },
  {
   "cell_type": "code",
   "execution_count": 4,
   "metadata": {},
   "outputs": [],
   "source": [
    "# Add nodes to the graph\n",
    "graph_builder.add_node(\"input_question\", input_question)\n",
    "graph_builder.add_node(\"get_subdomain\", get_subdomain)\n",
    "graph_builder.add_node(\"evaluate_subdomain\", evaluate_subdomain)\n",
    "graph_builder.add_node(\"get_information\", get_information)\n",
    "graph_builder.add_node(\"evaluate_information\", evaluate_information)\n",
    "graph_builder.add_node(\"get_answer\", get_answer)\n",
    "\n",
    "# Add edges to connect the nodes\n",
    "graph_builder.add_edge(START, \"input_question\")\n",
    "graph_builder.add_edge(\"input_question\", \"get_subdomain\")\n",
    "graph_builder.add_edge(\"get_subdomain\", \"evaluate_subdomain\")\n",
    "graph_builder.add_edge(\"evaluate_subdomain\", \"get_information\")\n",
    "graph_builder.add_edge(\"get_information\", \"evaluate_information\")\n",
    "graph_builder.add_edge(\"evaluate_information\", \"get_answer\")\n",
    "graph_builder.add_edge(\"get_answer\", END)\n",
    "\n",
    "# Compile the graph\n",
    "graph = graph_builder.compile()"
   ]
  },
  {
   "cell_type": "code",
   "execution_count": 5,
   "metadata": {},
   "outputs": [
    {
     "data": {
      "image/jpeg": "[encoded data removed]",
      "text/plain": [
       "<IPython.core.display.Image object>"
      ]
     },
     "metadata": {},
     "output_type": "display_data"
    }
   ],
   "source": [
    "from IPython.display import Image, display\n",
    "\n",
    "display(Image(graph.get_graph().draw_mermaid_png()))"
   ]
  },
  {
   "cell_type": "code",
   "execution_count": 6,
   "metadata": {},
   "outputs": [
    {
     "data": {
      "text/plain": [
       "{'initialized': 'true',\n",
       " 'question': 'Two quantum states with energies E1 and E2 have a lifetime of 10^-9 sec and 10^-8 sec, respectively. We want to clearly distinguish these two energy levels. Which one of the following options could be their energy difference so that they can be clearly resolved?',\n",
       " 'subdomain': 'The subdomain of this question is \"Quantum Physics.\"',\n",
       " 'subdomain_evaluation': False,\n",
       " 'information': \"To address the question of clearly resolving the energy difference between two quantum states with given energies \\\\( E_1 \\\\) and \\\\( E_2 \\\\) and their respective lifetimes, we need to consider the concept of energy resolution and the associated uncertainty in energy measurements due to the finite lifetimes of the states.\\n\\n### Key Information and Concepts:\\n\\n1. **Lifetimes of the States**:\\n   - State 1 (\\\\( E_1 \\\\)): Lifetime = \\\\( \\\\tau_1 = 10^{-9} \\\\) seconds\\n   - State 2 (\\\\( E_2 \\\\)): Lifetime = \\\\( \\\\tau_2 = 10^{-8} \\\\) seconds\\n\\n2. **Heisenberg Uncertainty Principle**:\\n   The Heisenberg uncertainty principle relates the uncertainty in energy (\\\\( \\\\Delta E \\\\)) to the uncertainty in time (\\\\( \\\\Delta t \\\\)):\\n   \\\\[\\n   \\\\Delta E \\\\cdot \\\\Delta t \\\\geq \\\\frac{\\\\hbar}{2}\\n   \\\\]\\n   where \\\\( \\\\hbar \\\\) is the reduced Planck's constant.\\n\\n3. **Energy Uncertainty**:\\n   Given the lifetimes of the states, the uncertainties in their energies can be estimated as:\\n   \\\\[\\n   \\\\Delta E_1 \\\\approx \\\\frac{\\\\hbar}{\\\\tau_1} = \\\\frac{\\\\hbar}{10^{-9} \\\\text{ sec}}\\n   \\\\]\\n   \\\\[\\n   \\\\Delta E_2 \\\\approx \\\\frac{\\\\hbar}{\\\\tau_2} = \\\\frac{\\\\hbar}{10^{-8} \\\\text{ sec}}\\n   \\\\]\\n   With \\\\(\\\\hbar \\\\approx 1.0545718 \\\\times 10^{-34} \\\\text{ Js}\\\\):\\n\\n   - For \\\\( \\\\tau_1 = 10^{-9} \\\\) sec:\\n     \\\\[\\n     \\\\Delta E_1 \\\\approx \\\\frac{1.0545718 \\\\times 10^{-34}}{10^{-9}} \\\\approx 1.0545718 \\\\times 10^{-25} \\\\text{ J}\\n     \\\\]\\n   - For \\\\( \\\\tau_2 = 10^{-8} \\\\) sec:\\n     \\\\[\\n     \\\\Delta E_2 \\\\approx \\\\frac{1.0545718 \\\\times 10^{-34}}{10^{-8}} \\\\approx 1.0545718 \\\\times 10^{-26} \\\\text{ J}\\n     \\\\]\\n\\n4. **Resolving Energy Levels**:\\n   To clearly distinguish or resolve two energy levels, the difference in their energies (\\\\( \\\\Delta E \\\\)) should be larger than either of their uncertainties. Since the uncertainty in energy is inversely proportional to the lifetime of the state, the energy difference required should be larger than the largest energy uncertainty among the states.\\n\\nThus, the energy difference \\\\( \\\\Delta E = |E_1 - E_2| \\\\) must be greater than the larger of \\\\( \\\\Delta E_1 \\\\) and \\\\( \\\\Delta E_2 \\\\). This means:\\n\\\\[\\n\\\\Delta E > \\\\Delta E_1 \\\\quad \\\\text{and/or} \\\\quad \\\\Delta E > \\\\Delta E_2\\n\\\\]\\n\\\\[\\n\\\\Delta E > 1.0545718 \\\\times 10^{-25} \\\\text{ J}\\n\\\\] (since \\\\( \\\\Delta E_1 \\\\) is larger).\\n\\n### Conclusion:\\nFrom the above analysis, the energy difference \\\\( \\\\Delta E \\\\) should be greater than \\\\( 1.0545718 \\\\times 10^{-25} \\\\) Joules for the two quantum states to be clearly distinguished.\\n\\nTherefore, when looking at the possible options for their energy difference, any value greater than \\\\( 1.0545718 \\\\times 10^{-25} \\\\) Joules would be an appropriate choice to resolve these energy levels.\",\n",
       " 'information_evaluation': False,\n",
       " 'answer': 'The energy difference that could clearly resolve the two energy levels is greater than \\\\( 1.0545718 \\\\times 10^{-25} \\\\) Joules.'}"
      ]
     },
     "execution_count": 6,
     "metadata": {},
     "output_type": "execute_result"
    }
   ],
   "source": [
    "graph.invoke({'initialized': 'true', 'question': 'asd', 'subdomain': 'asd', 'information': 'asd', 'answer': 'asd'})"
   ]
  },
  {
   "cell_type": "code",
   "execution_count": null,
   "metadata": {},
   "outputs": [],
   "source": []
  }
 ],
 "metadata": {
  "kernelspec": {
   "display_name": ".venv",
   "language": "python",
   "name": "python3"
  },
  "language_info": {
   "codemirror_mode": {
    "name": "ipython",
    "version": 3
   },
   "file_extension": ".py",
   "mimetype": "text/x-python",
   "name": "python",
   "nbconvert_exporter": "python",
   "pygments_lexer": "ipython3",
   "version": "3.11.4"
  }
 },
 "nbformat": 4,
 "nbformat_minor": 2
}
