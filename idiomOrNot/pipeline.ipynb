{
 "cells": [
  {
   "cell_type": "code",
   "execution_count": 1,
   "metadata": {},
   "outputs": [],
   "source": [
    "from openai import OpenAI\n",
    "\n",
    "client = OpenAI()"
   ]
  },
  {
   "cell_type": "code",
   "execution_count": 25,
   "metadata": {},
   "outputs": [],
   "source": [
    "from pydantic import BaseModel, Field\n",
    "from typing import List\n",
    "\n",
    "class PragmaticMeaning(BaseModel):\n",
    "    idiom: str = Field(description=\"the idiom that you are explaining\")\n",
    "    pragmatic_meaning: str = Field(description=\"the pragmatic meaning of the idiom\")\n",
    "    caution: str = Field(description=\"a caution about the idiomatic use of the idiom. For example, 'kick the bucket' can be considered offensive.\")\n",
    "    examples: List[str] = Field(description=\"3 examples that show the idiomatic use of the idiom\")\n",
    "    \n",
    "    class Config:\n",
    "        extra = \"forbid\"\n"
   ]
  },
  {
   "cell_type": "code",
   "execution_count": 26,
   "metadata": {},
   "outputs": [],
   "source": [
    "PRAGMATIC_EXTRACTOR_SYSTEM_PROMPT = \"\"\"\n",
    "You will be given an idiom as an input. Your task is to analyze the idiom and extract the pragmatic meaning of the idiom. Your response should be a json object with the following fields:\n",
    "- idiom: the idiom that you are explaining\n",
    "- pragmatic_meaning: the pragmatic meaning of the idiom\n",
    "- caution: a caution about the idiom. For example, 'kick the bucket' can be considered offensive.\n",
    "- examples: 3 examples that show the idiomatic use of the idiom\n",
    "\"\"\""
   ]
  },
  {
   "cell_type": "code",
   "execution_count": 27,
   "metadata": {},
   "outputs": [],
   "source": [
    "extraction_response = client.beta.chat.completions.parse(\n",
    "    model=\"gpt-4o-2024-08-06\",\n",
    "    messages=[\n",
    "        {\"role\": \"system\", \"content\": PRAGMATIC_EXTRACTOR_SYSTEM_PROMPT, \"name\": \"pragmatic_extractor_instruction\"},\n",
    "        {\"role\": \"user\", \"content\": \"break the ice\", \"name\": \"idiom_to_explain\"}\n",
    "    ],\n",
    "    response_format=PragmaticMeaning\n",
    ")\n"
   ]
  },
  {
   "cell_type": "code",
   "execution_count": 28,
   "metadata": {},
   "outputs": [],
   "source": [
    "response = extraction_response.choices[0].message.parsed"
   ]
  },
  {
   "cell_type": "code",
   "execution_count": 30,
   "metadata": {},
   "outputs": [
    {
     "name": "stdout",
     "output_type": "stream",
     "text": [
      "['At the team meeting, the manager told a funny story to break the ice before starting with the agenda.', 'On the first day of school, the teacher made everyone do a fun activity to break the ice among the new students.', 'He always uses a quick joke to break the ice when meeting new clients, making them feel more relaxed.']\n",
      "To initiate conversation in a social setting or to relieve tension and get a conversation or social interaction started.\n",
      "break the ice\n",
      "This idiom is generally inoffensive and widely used, but care should be taken in formal or very serious contexts as it might slightly undermine the gravity of the situation.\n"
     ]
    }
   ],
   "source": [
    "print(response.examples)\n",
    "print(response.pragmatic_meaning)\n",
    "print(response.idiom)\n",
    "print(response.caution)"
   ]
  },
  {
   "cell_type": "code",
   "execution_count": 47,
   "metadata": {},
   "outputs": [],
   "source": [
    "class Scenario_Generated(BaseModel):\n",
    "    is_right: bool = Field(description=\"Whether the use of the idiom in conversation is correct or not\")\n",
    "    overall_context: str = Field(description=\"overall context of the conversation\")\n",
    "    idiom: str = Field(description=\"the idiom that you are explaining\")\n",
    "    conversation_including_idiom: List[str] = Field(description=\"a conversation that shows the idiomatic use of the idiom. Must be array of exactly 7 sentences.\")\n",
    "    explanation: str = Field(description=\"explanation of why the idiom is used correctly or incorrectly\")\n",
    "    other_expressions: List[str] = Field(description=\"other expressions that mean the same thing as the idiom\")\n",
    "    follow_up_conversation: List[str] = Field(description=\"Conversation after the idiom is used. If the idiom is used correctly, the follow up conversation should be natural. If the idiom is used incorrectly, the follow up conversation should show the incorrect usage of the idiom. Must be array of exactly 5 sentences.\")\n",
    "    \n",
    "    class Config:\n",
    "        extra = \"forbid\"\n"
   ]
  },
  {
   "cell_type": "code",
   "execution_count": 48,
   "metadata": {},
   "outputs": [],
   "source": [
    "SCENARIO_GENERATOR_PROMPT = \"\"\"\n",
    "You will be given a idiom, its pragmatic meaning, and a caution about the idiom. Your task is to generate a scenario that shows the idiomatic use of the idiom. Your response **must** include the following informations:\n",
    "- is_right: You **have to** create a scenario with **{is_appropriate}** use of the idiom.\n",
    "- overall_context: overall context of the conversation\n",
    "- idiom: the idiom that you are explaining\n",
    "- conversation_including_idiom: a conversation that shows the idiomatic use of the idiom. Must be array of exactly 7 sentences.\n",
    "- explanation: explanation of why the idiom is used correctly or incorrectly\n",
    "- other_expressions: other expressions that mean the same thing as the idiom\n",
    "- follow_up_conversation: Conversation after the idiom is used. If the idiom is used correctly, the follow up conversation should be natural. If the idiom is used incorrectly, the follow up conversation should show the incorrect usage of the idiom. Must be array of exactly 5 sentences.\n",
    "\"\"\""
   ]
  },
  {
   "cell_type": "code",
   "execution_count": 49,
   "metadata": {},
   "outputs": [],
   "source": [
    "scenario_response = client.chat.completions.create(\n",
    "    model='o1-mini',\n",
    "    messages=[\n",
    "        {\"role\": \"user\", 'content': SCENARIO_GENERATOR_PROMPT.format(is_appropriate='incorrect'), \"name\": \"scenario_generator_instruction\"},\n",
    "        {\"role\": \"user\", \"content\": f\"idiom: {response.idiom}\\npragmatic meaning: {response.pragmatic_meaning}\\ncaution: {response.caution}\", \"name\": \"input_informations\"}\n",
    "    ],\n",
    ")"
   ]
  },
  {
   "cell_type": "code",
   "execution_count": 50,
   "metadata": {},
   "outputs": [],
   "source": [
    "scenario_response = scenario_response.choices[0].message.content"
   ]
  },
  {
   "cell_type": "code",
   "execution_count": 51,
   "metadata": {},
   "outputs": [
    {
     "name": "stdout",
     "output_type": "stream",
     "text": [
      "```json\n",
      "{\n",
      "  \"is_right\": false,\n",
      "  \"idiom\": \"break the ice\",\n",
      "  \"conversation\": [\n",
      "    {\n",
      "      \"Alice\": \"Alright team, before we begin drilling, let's break the ice.\"\n",
      "    },\n",
      "    {\n",
      "      \"Bob\": \"Sure thing, Alice. Do you have the tools we need?\"\n",
      "    },\n",
      "    {\n",
      "      \"Carol\": \"I brought the chisel and the hammer. Should we start on the northern section?\"\n",
      "    },\n",
      "    {\n",
      "      \"Dave\": \"Wait, Alice, do we need any special equipment for this?\"\n",
      "    },\n",
      "    {\n",
      "      \"Alice\": \"No, just the usual gear. Breaking the ice will help us get started smoothly.\"\n",
      "    },\n",
      "    {\n",
      "      \"Bob\": \"Got it. I'll handle the northern part then.\"\n",
      "    },\n",
      "    {\n",
      "      \"Carol\": \"I'll assist Bob to ensure we maintain consistency.\"\n",
      "    }\n",
      "  ],\n",
      "  \"other_expressions\": [\n",
      "    \"initiate conversation\",\n",
      "    \"warm up\",\n",
      "    \"get the ball rolling\",\n",
      "    \"start things off\",\n",
      "    \"ease into the conversation\"\n",
      "  ],\n",
      "  \"follow_up_conversation\": [\n",
      "    {\n",
      "      \"Dave\": \"Alice, why are we focusing on breaking the ice first? Shouldn't we assess the site's stability?\"\n",
      "    },\n",
      "    {\n",
      "      \"Alice\": \"Oh, I thought you meant we needed to start working on the ice immediately.\"\n",
      "    },\n",
      "    {\n",
      "      \"Bob\": \"Yeah, I was confused for a moment there!\"\n",
      "    },\n",
      "    {\n",
      "      \"Carol\": \"Maybe next time, we can actually start with some team introductions to break the ice.\"\n",
      "    },\n",
      "    {\n",
      "      \"Dave\": \"Good idea. That way, we can avoid any misunderstandings.\"\n",
      "    }\n",
      "  ]\n",
      "}\n",
      "```\n",
      "\n",
      "**Explanation:**\n",
      "\n",
      "In this scenario, Alice uses the idiom \"break the ice\" incorrectly by intending it to mean physically breaking ice before drilling. However, the idiomatic meaning of \"break the ice\" is to initiate conversation or relieve social tension. This misuse leads to confusion among the team members, as they interpret it literally rather than in its idiomatic sense.\n",
      "\n",
      "**Other Expressions:**\n",
      "- Initiate conversation\n",
      "- Warm up\n",
      "- Get the ball rolling\n",
      "- Start things off\n",
      "- Ease into the conversation\n"
     ]
    }
   ],
   "source": [
    "print(scenario_response)"
   ]
  },
  {
   "cell_type": "code",
   "execution_count": 52,
   "metadata": {},
   "outputs": [],
   "source": [
    "EXTRACTOR_INSTRUCTION = \"\"\"\n",
    "You will be given a scenario that shows the idiomatic use of an idiom. Your task is to extract the informations from the prompt named 'prompt_to_extract_informations_from'. Extract the following elements to generate your response in JSON format:\n",
    "---\n",
    "- is_right: Whether the use of the idiom in conversation is correct or not\n",
    "- overall_context: overall context of the conversation\n",
    "- idiom: the idiom that you are explaining\n",
    "- conversation_including_idiom: a conversation that shows the idiomatic use of the idiom. Must be array of exactly 7 sentences.\n",
    "- explanation: explanation of why the idiom is used correctly or incorrectly\n",
    "- other_expressions: other expressions that mean the same thing as the idiom\n",
    "- follow_up_conversation: Conversation after the idiom is used. If the idiom is used correctly, the follow up conversation should be natural. If the idiom is used incorrectly, the follow up conversation should show the incorrect usage of the idiom. Extract every dialogue in the conversation. Must be array of exactly 5 sentences.\n",
    "---\n",
    "\"\"\""
   ]
  },
  {
   "cell_type": "code",
   "execution_count": 53,
   "metadata": {},
   "outputs": [],
   "source": [
    "formatted_scenario_response = client.beta.chat.completions.parse(\n",
    "    model=\"gpt-4o-2024-08-06\",\n",
    "    messages=[\n",
    "        {\"role\": \"system\", \"content\": EXTRACTOR_INSTRUCTION, \"name\": \"extractor_instruction\"},\n",
    "        {\"role\": \"user\", \"content\": scenario_response, \"name\": \"prompt_to_extract_informations_from\"}\n",
    "    ],\n",
    "    response_format=Scenario_Generated\n",
    ").choices[0].message.parsed"
   ]
  },
  {
   "cell_type": "code",
   "execution_count": 1,
   "metadata": {},
   "outputs": [
    {
     "ename": "NameError",
     "evalue": "name 'formatted_scenario_response' is not defined",
     "output_type": "error",
     "traceback": [
      "\u001b[0;31m---------------------------------------------------------------------------\u001b[0m",
      "\u001b[0;31mNameError\u001b[0m                                 Traceback (most recent call last)",
      "Cell \u001b[0;32mIn[1], line 1\u001b[0m\n\u001b[0;32m----> 1\u001b[0m \u001b[38;5;28mprint\u001b[39m(\u001b[43mformatted_scenario_response\u001b[49m\u001b[38;5;241m.\u001b[39mconversation_including_idiom)\n\u001b[1;32m      2\u001b[0m \u001b[38;5;28mprint\u001b[39m(formatted_scenario_response\u001b[38;5;241m.\u001b[39midiom)\n\u001b[1;32m      3\u001b[0m \u001b[38;5;28mprint\u001b[39m(formatted_scenario_response\u001b[38;5;241m.\u001b[39mother_expressions)\n",
      "\u001b[0;31mNameError\u001b[0m: name 'formatted_scenario_response' is not defined"
     ]
    }
   ],
   "source": [
    "print(formatted_scenario_response.conversation_including_idiom)\n",
    "print(formatted_scenario_response.idiom)\n",
    "print(formatted_scenario_response.other_expressions)\n",
    "print(formatted_scenario_response.follow_up_conversation)\n",
    "print(formatted_scenario_response.is_right)\n",
    "print(formatted_scenario_response.overall_context)\n",
    "print(formatted_scenario_response.explanation)"
   ]
  },
  {
   "cell_type": "code",
   "execution_count": null,
   "metadata": {},
   "outputs": [],
   "source": []
  }
 ],
 "metadata": {
  "kernelspec": {
   "display_name": ".venv",
   "language": "python",
   "name": "python3"
  },
  "language_info": {
   "codemirror_mode": {
    "name": "ipython",
    "version": 3
   },
   "file_extension": ".py",
   "mimetype": "text/x-python",
   "name": "python",
   "nbconvert_exporter": "python",
   "pygments_lexer": "ipython3",
   "version": "3.11.4"
  }
 },
 "nbformat": 4,
 "nbformat_minor": 2
}
