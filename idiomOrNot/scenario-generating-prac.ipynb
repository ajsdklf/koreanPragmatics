{
 "cells": [
  {
   "cell_type": "code",
   "execution_count": 1,
   "metadata": {},
   "outputs": [],
   "source": [
    "from openai import OpenAI\n",
    "\n",
    "client = OpenAI()"
   ]
  },
  {
   "cell_type": "code",
   "execution_count": 5,
   "metadata": {},
   "outputs": [],
   "source": [
    "SCENARIO_PROMPT = \"\"\"\n",
    "You are a scenario generator that creates realistic and diverse scenarios for users who are learning idioms. As an input, you will receive an idiom to be used in a scenario. Your task is to create a scenario where the idiom is used naturally and appropriately.\n",
    "\"\"\"\n",
    "\n",
    "scenario_generated = client.chat.completions.create(\n",
    "    model='o1-mini',\n",
    "    messages=[\n",
    "        {\"role\": \"user\", \"content\": SCENARIO_PROMPT, \"name\": \"scenario_generator\"},\n",
    "        {'role': 'user', 'content': 'Kick the bucket', 'name': 'idiom_used'}\n",
    "    ]\n",
    ")"
   ]
  },
  {
   "cell_type": "code",
   "execution_count": 6,
   "metadata": {},
   "outputs": [
    {
     "data": {
      "text/plain": [
       "'**Scenario: The Inheritance Discussion**\\n\\nEmma and her brother Liam were sitting on the porch of their family home, watching the sunset paint the sky with hues of orange and pink. They had returned to their hometown to attend their great-uncle Robert\\'s funeral. The evening was quiet, with only the soft chirping of crickets filling the silence.\\n\\n\"You know,\" Emma began, breaking the stillness, \"Uncle Robert always had a way of bringing the family together, even now.\"\\n\\nLiam nodded thoughtfully. \"He did. It\\'s strange to think he\\'s gone. He was the last of that generation.\"\\n\\nShe sighed. \"I guess everyone kicks the bucket eventually, but it\\'s still hard to grasp.\"\\n\\nLiam gave a small smile. \"True. But remember how he used to tell us stories about his adventures overseas? He lived quite a life.\"\\n\\n\"Absolutely,\" Emma agreed. \"Traveling the world, meeting all sorts of people. He made the most of his time.\"\\n\\nJust then, their cousin Maya joined them on the porch. \"Hey guys, the family is gathering inside to read Uncle Robert\\'s will.\"\\n\\nEmma raised an eyebrow. \"Do you think he left us anything interesting?\"\\n\\nMaya chuckled. \"Knowing him, there might be a surprise or two. He wasn\\'t one to do things conventionally.\"\\n\\nAs they stood to go inside, Liam remarked, \"Well, whether or not we inherit anything, I\\'m just glad we could all come together like this. It\\'s what he would\\'ve wanted.\"\\n\\nEmma put an arm around her brother\\'s shoulder. \"Agreed. Even after kicking the bucket, Uncle Robert is keeping the family united.\"\\n\\nThey walked into the house, ready to celebrate the life of a man who had left a lasting impact on them all.'"
      ]
     },
     "execution_count": 6,
     "metadata": {},
     "output_type": "execute_result"
    }
   ],
   "source": [
    "scenario_generated.choices[0].message.content"
   ]
  },
  {
   "cell_type": "code",
   "execution_count": null,
   "metadata": {},
   "outputs": [],
   "source": []
  }
 ],
 "metadata": {
  "kernelspec": {
   "display_name": ".venv",
   "language": "python",
   "name": "python3"
  },
  "language_info": {
   "codemirror_mode": {
    "name": "ipython",
    "version": 3
   },
   "file_extension": ".py",
   "mimetype": "text/x-python",
   "name": "python",
   "nbconvert_exporter": "python",
   "pygments_lexer": "ipython3",
   "version": "3.11.4"
  }
 },
 "nbformat": 4,
 "nbformat_minor": 2
}
