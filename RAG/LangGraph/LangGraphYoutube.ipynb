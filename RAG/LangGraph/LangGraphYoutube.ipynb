{
 "cells": [
  {
   "cell_type": "markdown",
   "metadata": {},
   "source": [
    "## Conventional RAG\n",
    "Conventional RAG (Retrieval-Augmented Generation) is a method that combines the power of retrieval-based systems with generative models. It retrieves relevant documents or information from a large corpus and uses this information to generate more accurate and contextually appropriate responses.\n",
    "\n",
    "## LangGraph\n",
    "LangGraph is a framework designed to represent and analyze the relationships between different languages. It uses graph-based structures to model the connections and similarities between languages, enabling more efficient language processing and understanding.\n",
    "\n",
    "## LangGraph + RAG\n",
    "LangGraph + RAG is an integrated approach that leverages the strengths of both LangGraph and Conventional RAG. By combining the graph-based language relationships of LangGraph with the retrieval and generation capabilities of RAG, this approach aims to enhance the accuracy and relevance of language processing tasks."
   ]
  },
  {
   "cell_type": "markdown",
   "metadata": {},
   "source": [
    "# Conventional RAG의 문제점 \n",
    "1. 문서 크기가 너무 커서 메모리에 못 들어감\n",
    "2. 사전에 정의된 데이터 소싱만을 지원\n",
    "3. 문서 간의 관계를 표현하기 어려움\n",
    "4. 신뢰하기 어려운 LLM or Agent\n",
    "5. 고정된 프롬프트 형식\n",
    "6. 사전에 정의된 Query 형식만을 지원"
   ]
  },
  {
   "cell_type": "markdown",
   "metadata": {},
   "source": [
    "# LangGraph의 제안\n",
    "\n",
    "1. 각 세부과정을 노드라고 정의\n",
    "2. 이전 노드와 현재 노드의 관계를 엣지로 연결\n",
    "3. 조건부 엣지를 통해 노드의 흐름을 제어\n",
    "\n",
    "-> RAG 파이프라인을 보다 유연하게 설계한다..!!"
   ]
  },
  {
   "cell_type": "code",
   "execution_count": 1,
   "metadata": {},
   "outputs": [],
   "source": [
    "LANGCHAIN_TRACING_V2='true'\n",
    "LANGCHAIN_ENDPOINT=\"https://api.smith.langchain.com\"\n",
    "LANGCHAIN_API_KEY=\"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\"\n",
    "LANGCHAIN_PROJECT=\"practice\""
   ]
  },
  {
   "cell_type": "code",
   "execution_count": null,
   "metadata": {},
   "outputs": [],
   "source": []
  }
 ],
 "metadata": {
  "kernelspec": {
   "display_name": ".venv",
   "language": "python",
   "name": "python3"
  },
  "language_info": {
   "codemirror_mode": {
    "name": "ipython",
    "version": 3
   },
   "file_extension": ".py",
   "mimetype": "text/x-python",
   "name": "python",
   "nbconvert_exporter": "python",
   "pygments_lexer": "ipython3",
   "version": "3.11.4"
  }
 },
 "nbformat": 4,
 "nbformat_minor": 2
}
